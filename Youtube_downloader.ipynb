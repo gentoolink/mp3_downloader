{
 "cells": [
  {
   "cell_type": "code",
   "execution_count": 34,
   "metadata": {},
   "outputs": [
    {
     "name": "stdout",
     "output_type": "stream",
     "text": [
      "What would you like to do?\n",
      " Pick a number:\n",
      "\n",
      " 1. Extract audio to mp3\n",
      " 2. Extract audio to wav\n",
      " 3. Download video as mp4\n",
      "3\n",
      "Name of youtube url? : https://www.youtube.com/watch?v=xodDxoaF4jk\n",
      "Name of folder? : deflepvid\n",
      "ken Your video is located here:\n",
      " /home/ken/Downloads/deflepvid\n"
     ]
    }
   ],
   "source": [
    "#download videos from youtube with Youtube-dl\n",
    "#make sure youtube-dl is installed before running script\n",
    "#youtube-dl will be doing all the heavy lifting\n",
    "\n",
    "import os\n",
    "import getpass\n",
    "\n",
    "#get username and change to directory reletive to the user\n",
    "myusername = getpass.getuser()\n",
    "mydir=os.chdir(\"/home/\"+myusername+\"/Downloads/\") #for Linux systems only\n",
    "\n",
    "def musicmp3dl():\n",
    "    playlisturl =input(\"Name of youtube url? : \")\n",
    "    makefolder = input(\"Name of folder? : \")\n",
    "    makefolder\n",
    "    createfolder = os.system(\"mkdir \"+makefolder)\n",
    "    createfolder\n",
    "    movetofolder = os.chdir(makefolder)\n",
    "    movetofolder\n",
    "    dlvideo=os.system(\"youtube-dl --ignore-errors --extract-audio --audio-format mp3 \"+ playlisturl) \n",
    "    dlvideo\n",
    "    print(myusername+\" Your audio file is located here:\\n \"+ os.getcwd())\n",
    "    return\n",
    "\n",
    "#download music in wav for playing on old cd players\n",
    "\n",
    "def musicwavdl():\n",
    "    playlisturl =input(\"Name of youtube url? : \")\n",
    "    makefolder = input(\"Name of folder? : \")\n",
    "    makefolder\n",
    "    createfolder = os.system(\"mkdir \"+makefolder)\n",
    "    createfolder\n",
    "    movetofolder = os.chdir(makefolder)\n",
    "    movetofolder\n",
    "    dlvideo=os.system(\"youtube-dl --ignore-errors --extract-audio --audio-format wav \"+ playlisturl) \n",
    "    dlvideo\n",
    "    print(myusername+\" Your audio file is located here:\\n \"+ os.getcwd())\n",
    "    return\n",
    "\n",
    "\n",
    "#download video playlist in mp4\n",
    "\n",
    "def videodl():\n",
    "    playlisturl =input(\"Name of youtube url? : \")\n",
    "    makefolder = input(\"Name of folder? : \")\n",
    "    makefolder\n",
    "    createfolder = os.system(\"mkdir \"+makefolder)\n",
    "    createfolder\n",
    "    movetofolder = os.chdir(makefolder)\n",
    "    movetofolder\n",
    "    dlvideo=os.system(\"youtube-dl --ignore-errors \"+ playlisturl) \n",
    "    dlvideo\n",
    "    print(myusername+\" Your video is located here:\\n \"+ os.getcwd())\n",
    "    return\n",
    "    \n",
    "#Now we can ask the user to choose which one to run\n",
    "\n",
    "userschoice =int(input(\"What would you like to do?\\n Pick a number:\\n\\n 1. Extract audio to mp3\\n 2. Extract audio to wav\\n 3. Download video as mp4\\n\"))\n",
    "\n",
    "if userschoice == 1:\n",
    "    musicmp3dl()\n",
    "elif userschoice == 2:\n",
    "    musicwavdl()\n",
    "else:\n",
    "    videodl()\n",
    "\n"
   ]
  },
  {
   "cell_type": "code",
   "execution_count": null,
   "metadata": {},
   "outputs": [],
   "source": []
  },
  {
   "cell_type": "code",
   "execution_count": null,
   "metadata": {},
   "outputs": [],
   "source": []
  }
 ],
 "metadata": {
  "kernelspec": {
   "display_name": "Python 3",
   "language": "python",
   "name": "python3"
  },
  "language_info": {
   "codemirror_mode": {
    "name": "ipython",
    "version": 3
   },
   "file_extension": ".py",
   "mimetype": "text/x-python",
   "name": "python",
   "nbconvert_exporter": "python",
   "pygments_lexer": "ipython3",
   "version": "3.8.2"
  }
 },
 "nbformat": 4,
 "nbformat_minor": 4
}
